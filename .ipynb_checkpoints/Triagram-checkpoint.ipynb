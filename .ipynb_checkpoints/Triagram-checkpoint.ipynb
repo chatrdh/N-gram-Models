{
 "cells": [
  {
   "cell_type": "code",
   "execution_count": 27,
   "id": "5d58bacb-928b-4079-bd5a-a6cf14bcf823",
   "metadata": {},
   "outputs": [],
   "source": [
    "words= open('names_indian.txt', 'r').read().splitlines()"
   ]
  },
  {
   "cell_type": "code",
   "execution_count": 28,
   "id": "6a77049a-a5fa-40d9-8d27-6eb464131e90",
   "metadata": {},
   "outputs": [
    {
     "data": {
      "text/plain": [
       "['Aachal',\n",
       " 'Aadharsh',\n",
       " 'Aadhavi',\n",
       " 'Aadhira',\n",
       " 'Aadidev',\n",
       " 'Aadil',\n",
       " 'Aadita',\n",
       " 'Aaditya',\n",
       " 'Aadiv',\n",
       " 'Aadrik']"
      ]
     },
     "execution_count": 28,
     "metadata": {},
     "output_type": "execute_result"
    }
   ],
   "source": [
    "words[:10]"
   ]
  },
  {
   "cell_type": "code",
   "execution_count": 29,
   "id": "302683da-3fc6-4510-9945-c385fc96bf45",
   "metadata": {},
   "outputs": [
    {
     "data": {
      "text/plain": [
       "['Annushka',\n",
       " 'Abhinandan',\n",
       " 'Bhanu',\n",
       " 'Riaz',\n",
       " 'Prerna',\n",
       " 'Bina',\n",
       " 'Yashvir',\n",
       " 'Mahasweta',\n",
       " 'Matanga',\n",
       " 'Eiravati']"
      ]
     },
     "execution_count": 29,
     "metadata": {},
     "output_type": "execute_result"
    }
   ],
   "source": [
    "import random\n",
    "random.shuffle(words)\n",
    "words[:10]"
   ]
  },
  {
   "cell_type": "code",
   "execution_count": 30,
   "id": "be19eef7-44eb-493c-8615-363c5024c03f",
   "metadata": {},
   "outputs": [
    {
     "data": {
      "text/plain": [
       "2195"
      ]
     },
     "execution_count": 30,
     "metadata": {},
     "output_type": "execute_result"
    }
   ],
   "source": [
    "len(words)"
   ]
  },
  {
   "cell_type": "code",
   "execution_count": 31,
   "id": "d1a4ed33-ea8d-4cfb-b173-a6230c7e1968",
   "metadata": {},
   "outputs": [
    {
     "data": {
      "text/plain": [
       "2"
      ]
     },
     "execution_count": 31,
     "metadata": {},
     "output_type": "execute_result"
    }
   ],
   "source": [
    "min(len(w) for w in words)"
   ]
  },
  {
   "cell_type": "code",
   "execution_count": 32,
   "id": "7203495c-e5e8-4b7a-98bd-507cc7ea1c13",
   "metadata": {},
   "outputs": [
    {
     "data": {
      "text/plain": [
       "14"
      ]
     },
     "execution_count": 32,
     "metadata": {},
     "output_type": "execute_result"
    }
   ],
   "source": [
    "max(len(w) for w in words)"
   ]
  },
  {
   "cell_type": "code",
   "execution_count": 33,
   "id": "78f0d12f-24f6-4103-a2d1-515a866d463c",
   "metadata": {},
   "outputs": [],
   "source": [
    "words_new = [word.lower() for word in words]"
   ]
  },
  {
   "cell_type": "code",
   "execution_count": 34,
   "id": "a5ab2041-ad6d-4eb4-a986-3643489c4558",
   "metadata": {},
   "outputs": [],
   "source": [
    "tri={}\n",
    "for w in words_new[:3]:\n",
    "     chs=['<S>']+list(w)+['<E>'] #adding a starting and ending character\n",
    "     for ch1,ch2,ch3 in zip(chs,chs[1:],chs[2:]):\n",
    "         trigram=(ch1,ch2,ch3)\n",
    "         tri[trigram]=tri.get(trigram,0)+1"
   ]
  },
  {
   "cell_type": "code",
   "execution_count": 35,
   "id": "42340d0e-7738-4088-98d5-0c9802d4f41e",
   "metadata": {},
   "outputs": [
    {
     "data": {
      "text/plain": [
       "{('<S>', 'a', 'n'): 1,\n",
       " ('a', 'n', 'n'): 1,\n",
       " ('n', 'n', 'u'): 1,\n",
       " ('n', 'u', 's'): 1,\n",
       " ('u', 's', 'h'): 1,\n",
       " ('s', 'h', 'k'): 1,\n",
       " ('h', 'k', 'a'): 1,\n",
       " ('k', 'a', '<E>'): 1,\n",
       " ('<S>', 'a', 'b'): 1,\n",
       " ('a', 'b', 'h'): 1,\n",
       " ('b', 'h', 'i'): 1,\n",
       " ('h', 'i', 'n'): 1,\n",
       " ('i', 'n', 'a'): 1,\n",
       " ('n', 'a', 'n'): 1,\n",
       " ('a', 'n', 'd'): 1,\n",
       " ('n', 'd', 'a'): 1,\n",
       " ('d', 'a', 'n'): 1,\n",
       " ('a', 'n', '<E>'): 1,\n",
       " ('<S>', 'b', 'h'): 1,\n",
       " ('b', 'h', 'a'): 1,\n",
       " ('h', 'a', 'n'): 1,\n",
       " ('a', 'n', 'u'): 1,\n",
       " ('n', 'u', '<E>'): 1}"
      ]
     },
     "execution_count": 35,
     "metadata": {},
     "output_type": "execute_result"
    }
   ],
   "source": [
    "tri"
   ]
  },
  {
   "cell_type": "code",
   "execution_count": 36,
   "id": "b1da9b91-d444-4b17-94c9-71e03a43e80b",
   "metadata": {},
   "outputs": [
    {
     "data": {
      "text/plain": [
       "[(('<S>', 'a', 'n'), 1),\n",
       " (('a', 'n', 'n'), 1),\n",
       " (('n', 'n', 'u'), 1),\n",
       " (('n', 'u', 's'), 1),\n",
       " (('u', 's', 'h'), 1),\n",
       " (('s', 'h', 'k'), 1),\n",
       " (('h', 'k', 'a'), 1),\n",
       " (('k', 'a', '<E>'), 1),\n",
       " (('<S>', 'a', 'b'), 1),\n",
       " (('a', 'b', 'h'), 1),\n",
       " (('b', 'h', 'i'), 1),\n",
       " (('h', 'i', 'n'), 1),\n",
       " (('i', 'n', 'a'), 1),\n",
       " (('n', 'a', 'n'), 1),\n",
       " (('a', 'n', 'd'), 1),\n",
       " (('n', 'd', 'a'), 1),\n",
       " (('d', 'a', 'n'), 1),\n",
       " (('a', 'n', '<E>'), 1),\n",
       " (('<S>', 'b', 'h'), 1),\n",
       " (('b', 'h', 'a'), 1),\n",
       " (('h', 'a', 'n'), 1),\n",
       " (('a', 'n', 'u'), 1),\n",
       " (('n', 'u', '<E>'), 1)]"
      ]
     },
     "execution_count": 36,
     "metadata": {},
     "output_type": "execute_result"
    }
   ],
   "source": [
    "sorted(tri.items(), key= lambda kv:-kv[1])"
   ]
  },
  {
   "cell_type": "code",
   "execution_count": 37,
   "id": "75c3cc2d-ee6f-4616-99c0-93f0ed91b76e",
   "metadata": {},
   "outputs": [],
   "source": [
    "import torch\n",
    "import torch.nn.functional as F"
   ]
  },
  {
   "cell_type": "code",
   "execution_count": 38,
   "id": "5ad2b912-b7d4-40bc-acb8-e39b272b98fd",
   "metadata": {},
   "outputs": [],
   "source": [
    "chars=sorted(list(set(''.join(words_new))))\n",
    "stoi ={s:i+1 for i,s in enumerate(chars)}\n",
    "stoi['.']=0\n",
    "itos={i:s for s,i in stoi.items()}"
   ]
  },
  {
   "cell_type": "code",
   "execution_count": 39,
   "id": "233b5cd7-2d17-45ed-91ec-509b5576915d",
   "metadata": {},
   "outputs": [
    {
     "data": {
      "text/plain": [
       "{'a': 1,\n",
       " 'b': 2,\n",
       " 'c': 3,\n",
       " 'd': 4,\n",
       " 'e': 5,\n",
       " 'f': 6,\n",
       " 'g': 7,\n",
       " 'h': 8,\n",
       " 'i': 9,\n",
       " 'j': 10,\n",
       " 'k': 11,\n",
       " 'l': 12,\n",
       " 'm': 13,\n",
       " 'n': 14,\n",
       " 'o': 15,\n",
       " 'p': 16,\n",
       " 'q': 17,\n",
       " 'r': 18,\n",
       " 's': 19,\n",
       " 't': 20,\n",
       " 'u': 21,\n",
       " 'v': 22,\n",
       " 'w': 23,\n",
       " 'x': 24,\n",
       " 'y': 25,\n",
       " 'z': 26,\n",
       " '.': 0}"
      ]
     },
     "execution_count": 39,
     "metadata": {},
     "output_type": "execute_result"
    }
   ],
   "source": [
    "stoi"
   ]
  },
  {
   "cell_type": "markdown",
   "id": "4f0686ef-c5e2-40c3-9b38-b1f81cd53898",
   "metadata": {},
   "source": [
    "#### The Neural Network"
   ]
  },
  {
   "cell_type": "code",
   "execution_count": 40,
   "id": "ee2a2eca-3778-498a-8a07-4938422c8985",
   "metadata": {},
   "outputs": [],
   "source": [
    "#creating the dataset intially with just 3 words to experiment\n",
    "xs=[]\n",
    "ys=[]\n",
    "for w in words_new[:3]: \n",
    "     chs=['.']+list(w)+['.'] \n",
    "     for ch1,ch2,ch3 in zip(chs,chs[1:],chs[2:]):\n",
    "        ix1=stoi[ch1]\n",
    "        ix2=stoi[ch2]\n",
    "        ix3=stoi[ch3] \n",
    "        xs.append([ix1,ix2]) \n",
    "        ys.append(ix3)\n",
    "xs=torch.tensor(xs)        \n",
    "ys=torch.tensor(ys) "
   ]
  },
  {
   "cell_type": "code",
   "execution_count": 41,
   "id": "66dfcffb-d463-4db2-80d7-adad4003cbb9",
   "metadata": {},
   "outputs": [
    {
     "data": {
      "text/plain": [
       "tensor([[ 0,  1],\n",
       "        [ 1, 14],\n",
       "        [14, 14],\n",
       "        [14, 21],\n",
       "        [21, 19],\n",
       "        [19,  8],\n",
       "        [ 8, 11],\n",
       "        [11,  1],\n",
       "        [ 0,  1],\n",
       "        [ 1,  2],\n",
       "        [ 2,  8],\n",
       "        [ 8,  9],\n",
       "        [ 9, 14],\n",
       "        [14,  1],\n",
       "        [ 1, 14],\n",
       "        [14,  4],\n",
       "        [ 4,  1],\n",
       "        [ 1, 14],\n",
       "        [ 0,  2],\n",
       "        [ 2,  8],\n",
       "        [ 8,  1],\n",
       "        [ 1, 14],\n",
       "        [14, 21]])"
      ]
     },
     "execution_count": 41,
     "metadata": {},
     "output_type": "execute_result"
    }
   ],
   "source": [
    "xs"
   ]
  },
  {
   "cell_type": "code",
   "execution_count": 42,
   "id": "6f2ee3d5-ce21-4571-9df6-4103ab7b5ae4",
   "metadata": {},
   "outputs": [
    {
     "data": {
      "text/plain": [
       "tensor([14, 14, 21, 19,  8, 11,  1,  0,  2,  8,  9, 14,  1, 14,  4,  1, 14,  0,\n",
       "         8,  1, 14, 21,  0])"
      ]
     },
     "execution_count": 42,
     "metadata": {},
     "output_type": "execute_result"
    }
   ],
   "source": [
    "ys"
   ]
  },
  {
   "cell_type": "code",
   "execution_count": 43,
   "id": "ffe8c053-0fd1-47b0-aaf4-bf28f7b1f25c",
   "metadata": {},
   "outputs": [
    {
     "data": {
      "text/plain": [
       "torch.Size([23, 2])"
      ]
     },
     "execution_count": 43,
     "metadata": {},
     "output_type": "execute_result"
    }
   ],
   "source": [
    "xs.shape"
   ]
  },
  {
   "cell_type": "code",
   "execution_count": 44,
   "id": "73de6166-26b5-4303-84c9-7c513b5aafc4",
   "metadata": {},
   "outputs": [
    {
     "data": {
      "text/plain": [
       "torch.Size([23])"
      ]
     },
     "execution_count": 44,
     "metadata": {},
     "output_type": "execute_result"
    }
   ],
   "source": [
    "ys.shape"
   ]
  },
  {
   "cell_type": "markdown",
   "id": "1f119f23-c216-4c74-9bf5-69be2b7a1425",
   "metadata": {},
   "source": [
    "#### The Data"
   ]
  },
  {
   "cell_type": "code",
   "execution_count": 45,
   "id": "50bb1884-84c1-4c4f-817f-ac48b54464d8",
   "metadata": {},
   "outputs": [
    {
     "name": "stdout",
     "output_type": "stream",
     "text": [
      "torch.Size([13131, 2]) torch.Size([13131])\n",
      "torch.Size([1615, 2]) torch.Size([1615])\n",
      "torch.Size([1636, 2]) torch.Size([1636])\n"
     ]
    }
   ],
   "source": [
    "#DataSet Creation\n",
    "block_size=2\n",
    "\n",
    "\n",
    "def build_dataset(words): #function to build dataset \n",
    "  X, Y = [], []\n",
    "  for w in words:\n",
    "\n",
    "    #print(w)\n",
    "    context = [0] * block_size #slider for context\n",
    "    for ch in w + '.':\n",
    "      ix = stoi[ch]\n",
    "      X.append(context)\n",
    "      Y.append(ix)\n",
    "      context = context[1:] + [ix] # crop and append\n",
    "\n",
    "  X = torch.tensor(X)\n",
    "  Y = torch.tensor(Y)\n",
    "  print(X.shape, Y.shape)\n",
    "  return X, Y\n",
    "\n",
    "import random\n",
    "random.seed(42)\n",
    "random.shuffle(words_new)\n",
    "n1 = int(0.8*len(words_new))\n",
    "n2 = int(0.9*len(words_new))\n",
    "\n",
    "Xtr, Ytr = build_dataset(words_new[:n1])\n",
    "Xdev, Ydev = build_dataset(words_new[n1:n2])\n",
    "Xte, Yte = build_dataset(words_new[n2:])\n",
    "\n",
    "numtr = Xtr.shape[0]\n",
    "numdev = Xdev.shape[0]"
   ]
  },
  {
   "cell_type": "markdown",
   "id": "29572d15-1d5a-4bb1-9264-561570289acf",
   "metadata": {},
   "source": [
    "#### The Model"
   ]
  },
  {
   "cell_type": "code",
   "execution_count": 46,
   "id": "94604ad4-a2b7-4da3-8b0c-396818fe477a",
   "metadata": {},
   "outputs": [],
   "source": [
    "g = torch.Generator().manual_seed(2147555555)\n",
    "w=torch.rand((54,27),generator=g,requires_grad=True) # 27 neurons"
   ]
  },
  {
   "cell_type": "code",
   "execution_count": 52,
   "id": "a6c77423-f81c-48c0-84ed-5c3eb03d9a00",
   "metadata": {},
   "outputs": [
    {
     "name": "stdout",
     "output_type": "stream",
     "text": [
      "Training Loss :\n",
      "2.163222074508667\n",
      "Dev loss : \n",
      "2.1792004108428955\n"
     ]
    }
   ],
   "source": [
    "# gradient descent\n",
    "for k in range(100):\n",
    "    #Forward Pass starts here\n",
    "    xenc = F.one_hot(Xtr, num_classes=27).float() # xenc shape would be [14187,2,27]\n",
    "    xenc_flat = xenc.view(Xtr.shape[0], -1) #flattent the xenc shape to [14187,54]\n",
    "    logits=xenc_flat @ w\n",
    "    counts = logits.exp() # counts, equivalent to N\n",
    "    probs = counts / counts.sum(1, keepdims=True) # probabilities for next character\n",
    "    loss = -probs[torch.arange(numtr), Ytr].log().mean() + 0.01*(w**2).mean()\n",
    "    \n",
    "    #print(loss.item())\n",
    "    \n",
    "    \n",
    "    # backward pass starts here\n",
    "    w.grad = None # set to zero the gradient\n",
    "    loss.backward()\n",
    "      \n",
    "    # update\n",
    "    w.data += -25 * w.grad\n",
    "\n",
    "\n",
    "print('Training Loss :')\n",
    "print(loss.item())\n",
    "\n",
    "# Forward pass on dev data\n",
    "xenc_dev = F.one_hot(Xdev, num_classes=27).float()\n",
    "xenc_dev_flat = xenc_dev.view(Xdev.shape[0], -1)\n",
    "logits_dev = xenc_dev_flat @ w\n",
    "counts_dev = logits_dev.exp()\n",
    "probs_dev = counts_dev / counts_dev.sum(1, keepdims=True)\n",
    "loss_dev = -probs_dev[torch.arange(numdev), Ydev].log().mean()\n",
    "\n",
    "print('Dev loss : ')\n",
    "print(loss_dev.item())"
   ]
  },
  {
   "cell_type": "code",
   "execution_count": 56,
   "id": "008847bb-c926-4252-b714-fb0cbad93ae9",
   "metadata": {},
   "outputs": [
    {
     "name": "stdout",
     "output_type": "stream",
     "text": [
      "Test Loss: 2.2024266719818115\n"
     ]
    }
   ],
   "source": [
    "# Forward pass on test data\n",
    "xenc_test = F.one_hot(Xte, num_classes=27).float()\n",
    "xenc_test_flat = xenc_test.view(Xte.shape[0], -1)         \n",
    "logits_test = xenc_test_flat @ w                          \n",
    "counts_test = logits_test.exp()\n",
    "probs_test = counts_test / counts_test.sum(1, keepdims=True)\n",
    "\n",
    "# Cross-entropy loss on test data (no regularization)\n",
    "loss_test = -probs_test[torch.arange(Xte.shape[0]), Yte].log().mean()\n",
    "\n",
    "print('Test Loss:', loss_test.item())"
   ]
  },
  {
   "cell_type": "code",
   "execution_count": 53,
   "id": "3c6e517d-80f4-4866-98b4-78e7138de175",
   "metadata": {},
   "outputs": [
    {
     "name": "stdout",
     "output_type": "stream",
     "text": [
      "anera\n",
      "jatasuma\n",
      "sikaya\n",
      "sod\n",
      "ban\n",
      "kawanja\n",
      "ha\n",
      "pamalsmoki\n",
      "janj\n",
      "liya\n"
     ]
    }
   ],
   "source": [
    "g = torch.Generator().manual_seed(2147555555)\n",
    "for _ in range(10):  # Generate 10 words\n",
    "    out = []\n",
    "    context = [stoi['.'], stoi['.']]  # Starting context\n",
    "    while True:\n",
    "        x = torch.tensor([context])\n",
    "        xenc = F.one_hot(x, num_classes=27).float()\n",
    "        xenc_flat = xenc.view(1, -1)  # [1, 54]\n",
    "        logits = xenc_flat @ w  # [1, 27]\n",
    "        probs = F.softmax(logits, dim=1)\n",
    "        ix = torch.multinomial(probs, num_samples=1).item()\n",
    "        if ix == stoi['.']:\n",
    "            break\n",
    "        out.append(itos[ix])\n",
    "        context = [context[1], ix]  # Slide window\n",
    "    print(''.join(out))\n"
   ]
  },
  {
   "cell_type": "code",
   "execution_count": null,
   "id": "1ed559bf-d185-4325-bb79-e2db6e79f05b",
   "metadata": {},
   "outputs": [],
   "source": []
  }
 ],
 "metadata": {
  "kernelspec": {
   "display_name": "Python 3 (ipykernel)",
   "language": "python",
   "name": "python3"
  },
  "language_info": {
   "codemirror_mode": {
    "name": "ipython",
    "version": 3
   },
   "file_extension": ".py",
   "mimetype": "text/x-python",
   "name": "python",
   "nbconvert_exporter": "python",
   "pygments_lexer": "ipython3",
   "version": "3.12.3"
  }
 },
 "nbformat": 4,
 "nbformat_minor": 5
}
