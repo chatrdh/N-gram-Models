{
 "cells": [
  {
   "cell_type": "code",
   "execution_count": 1,
   "id": "5d58bacb-928b-4079-bd5a-a6cf14bcf823",
   "metadata": {},
   "outputs": [],
   "source": [
    "words= open('names_indian.txt', 'r').read().splitlines()"
   ]
  },
  {
   "cell_type": "code",
   "execution_count": 2,
   "id": "6a77049a-a5fa-40d9-8d27-6eb464131e90",
   "metadata": {},
   "outputs": [
    {
     "data": {
      "text/plain": [
       "['Aachal',\n",
       " 'Aadharsh',\n",
       " 'Aadhavi',\n",
       " 'Aadhira',\n",
       " 'Aadidev',\n",
       " 'Aadil',\n",
       " 'Aadita',\n",
       " 'Aaditya',\n",
       " 'Aadiv',\n",
       " 'Aadrik']"
      ]
     },
     "execution_count": 2,
     "metadata": {},
     "output_type": "execute_result"
    }
   ],
   "source": [
    "words[:10]"
   ]
  },
  {
   "cell_type": "code",
   "execution_count": 3,
   "id": "be19eef7-44eb-493c-8615-363c5024c03f",
   "metadata": {},
   "outputs": [
    {
     "data": {
      "text/plain": [
       "2195"
      ]
     },
     "execution_count": 3,
     "metadata": {},
     "output_type": "execute_result"
    }
   ],
   "source": [
    "len(words)"
   ]
  },
  {
   "cell_type": "code",
   "execution_count": 4,
   "id": "d1a4ed33-ea8d-4cfb-b173-a6230c7e1968",
   "metadata": {},
   "outputs": [
    {
     "data": {
      "text/plain": [
       "2"
      ]
     },
     "execution_count": 4,
     "metadata": {},
     "output_type": "execute_result"
    }
   ],
   "source": [
    "min(len(w) for w in words)"
   ]
  },
  {
   "cell_type": "code",
   "execution_count": 5,
   "id": "7203495c-e5e8-4b7a-98bd-507cc7ea1c13",
   "metadata": {},
   "outputs": [
    {
     "data": {
      "text/plain": [
       "14"
      ]
     },
     "execution_count": 5,
     "metadata": {},
     "output_type": "execute_result"
    }
   ],
   "source": [
    "max(len(w) for w in words)"
   ]
  },
  {
   "cell_type": "code",
   "execution_count": 6,
   "id": "78f0d12f-24f6-4103-a2d1-515a866d463c",
   "metadata": {},
   "outputs": [],
   "source": [
    "words_new = [word.lower() for word in words]"
   ]
  },
  {
   "cell_type": "code",
   "execution_count": 7,
   "id": "a5ab2041-ad6d-4eb4-a986-3643489c4558",
   "metadata": {},
   "outputs": [],
   "source": [
    "tri={}\n",
    "for w in words_new[:3]:\n",
    "     chs=['<S>']+list(w)+['<E>'] #adding a starting and ending character\n",
    "     for ch1,ch2,ch3 in zip(chs,chs[1:],chs[2:]):\n",
    "         trigram=(ch1,ch2,ch3)\n",
    "         tri[trigram]=tri.get(trigram,0)+1"
   ]
  },
  {
   "cell_type": "code",
   "execution_count": 8,
   "id": "42340d0e-7738-4088-98d5-0c9802d4f41e",
   "metadata": {},
   "outputs": [
    {
     "data": {
      "text/plain": [
       "{('<S>', 'a', 'a'): 3,\n",
       " ('a', 'a', 'c'): 1,\n",
       " ('a', 'c', 'h'): 1,\n",
       " ('c', 'h', 'a'): 1,\n",
       " ('h', 'a', 'l'): 1,\n",
       " ('a', 'l', '<E>'): 1,\n",
       " ('a', 'a', 'd'): 2,\n",
       " ('a', 'd', 'h'): 2,\n",
       " ('d', 'h', 'a'): 2,\n",
       " ('h', 'a', 'r'): 1,\n",
       " ('a', 'r', 's'): 1,\n",
       " ('r', 's', 'h'): 1,\n",
       " ('s', 'h', '<E>'): 1,\n",
       " ('h', 'a', 'v'): 1,\n",
       " ('a', 'v', 'i'): 1,\n",
       " ('v', 'i', '<E>'): 1}"
      ]
     },
     "execution_count": 8,
     "metadata": {},
     "output_type": "execute_result"
    }
   ],
   "source": [
    "tri"
   ]
  },
  {
   "cell_type": "code",
   "execution_count": 9,
   "id": "b1da9b91-d444-4b17-94c9-71e03a43e80b",
   "metadata": {},
   "outputs": [
    {
     "data": {
      "text/plain": [
       "[(('<S>', 'a', 'a'), 3),\n",
       " (('a', 'a', 'd'), 2),\n",
       " (('a', 'd', 'h'), 2),\n",
       " (('d', 'h', 'a'), 2),\n",
       " (('a', 'a', 'c'), 1),\n",
       " (('a', 'c', 'h'), 1),\n",
       " (('c', 'h', 'a'), 1),\n",
       " (('h', 'a', 'l'), 1),\n",
       " (('a', 'l', '<E>'), 1),\n",
       " (('h', 'a', 'r'), 1),\n",
       " (('a', 'r', 's'), 1),\n",
       " (('r', 's', 'h'), 1),\n",
       " (('s', 'h', '<E>'), 1),\n",
       " (('h', 'a', 'v'), 1),\n",
       " (('a', 'v', 'i'), 1),\n",
       " (('v', 'i', '<E>'), 1)]"
      ]
     },
     "execution_count": 9,
     "metadata": {},
     "output_type": "execute_result"
    }
   ],
   "source": [
    "sorted(tri.items(), key= lambda kv:-kv[1])"
   ]
  },
  {
   "cell_type": "code",
   "execution_count": 10,
   "id": "75c3cc2d-ee6f-4616-99c0-93f0ed91b76e",
   "metadata": {},
   "outputs": [],
   "source": [
    "import torch\n",
    "import torch.nn.functional as F"
   ]
  },
  {
   "cell_type": "code",
   "execution_count": 11,
   "id": "5ad2b912-b7d4-40bc-acb8-e39b272b98fd",
   "metadata": {},
   "outputs": [],
   "source": [
    "chars=sorted(list(set(''.join(words_new))))\n",
    "stoi ={s:i+1 for i,s in enumerate(chars)}\n",
    "stoi['.']=0\n",
    "itos={i:s for s,i in stoi.items()}"
   ]
  },
  {
   "cell_type": "code",
   "execution_count": 12,
   "id": "233b5cd7-2d17-45ed-91ec-509b5576915d",
   "metadata": {},
   "outputs": [
    {
     "data": {
      "text/plain": [
       "{'a': 1,\n",
       " 'b': 2,\n",
       " 'c': 3,\n",
       " 'd': 4,\n",
       " 'e': 5,\n",
       " 'f': 6,\n",
       " 'g': 7,\n",
       " 'h': 8,\n",
       " 'i': 9,\n",
       " 'j': 10,\n",
       " 'k': 11,\n",
       " 'l': 12,\n",
       " 'm': 13,\n",
       " 'n': 14,\n",
       " 'o': 15,\n",
       " 'p': 16,\n",
       " 'q': 17,\n",
       " 'r': 18,\n",
       " 's': 19,\n",
       " 't': 20,\n",
       " 'u': 21,\n",
       " 'v': 22,\n",
       " 'w': 23,\n",
       " 'x': 24,\n",
       " 'y': 25,\n",
       " 'z': 26,\n",
       " '.': 0}"
      ]
     },
     "execution_count": 12,
     "metadata": {},
     "output_type": "execute_result"
    }
   ],
   "source": [
    "stoi"
   ]
  },
  {
   "cell_type": "markdown",
   "id": "4f0686ef-c5e2-40c3-9b38-b1f81cd53898",
   "metadata": {},
   "source": [
    "The Neural Network"
   ]
  },
  {
   "cell_type": "code",
   "execution_count": 25,
   "id": "ee2a2eca-3778-498a-8a07-4938422c8985",
   "metadata": {},
   "outputs": [],
   "source": [
    "#creating the dataset intially with just 3 words to experiment\n",
    "xs=[]\n",
    "ys=[]\n",
    "for w in words_new[:3]: \n",
    "     chs=['.']+list(w)+['.'] \n",
    "     for ch1,ch2,ch3 in zip(chs,chs[1:],chs[2:]):\n",
    "        ix1=stoi[ch1]\n",
    "        ix2=stoi[ch2]\n",
    "        ix3=stoi[ch3] \n",
    "        xs.append([ix1,ix2]) \n",
    "        ys.append(ix3)\n",
    "xs=torch.tensor(xs)        \n",
    "ys=torch.tensor(ys) "
   ]
  },
  {
   "cell_type": "code",
   "execution_count": 26,
   "id": "66dfcffb-d463-4db2-80d7-adad4003cbb9",
   "metadata": {},
   "outputs": [
    {
     "data": {
      "text/plain": [
       "tensor([[ 0,  1],\n",
       "        [ 1,  1],\n",
       "        [ 1,  3],\n",
       "        [ 3,  8],\n",
       "        [ 8,  1],\n",
       "        [ 1, 12],\n",
       "        [ 0,  1],\n",
       "        [ 1,  1],\n",
       "        [ 1,  4],\n",
       "        [ 4,  8],\n",
       "        [ 8,  1],\n",
       "        [ 1, 18],\n",
       "        [18, 19],\n",
       "        [19,  8],\n",
       "        [ 0,  1],\n",
       "        [ 1,  1],\n",
       "        [ 1,  4],\n",
       "        [ 4,  8],\n",
       "        [ 8,  1],\n",
       "        [ 1, 22],\n",
       "        [22,  9]])"
      ]
     },
     "execution_count": 26,
     "metadata": {},
     "output_type": "execute_result"
    }
   ],
   "source": [
    "xs"
   ]
  },
  {
   "cell_type": "code",
   "execution_count": 27,
   "id": "6f2ee3d5-ce21-4571-9df6-4103ab7b5ae4",
   "metadata": {},
   "outputs": [
    {
     "data": {
      "text/plain": [
       "tensor([ 1,  3,  8,  1, 12,  0,  1,  4,  8,  1, 18, 19,  8,  0,  1,  4,  8,  1,\n",
       "        22,  9,  0])"
      ]
     },
     "execution_count": 27,
     "metadata": {},
     "output_type": "execute_result"
    }
   ],
   "source": [
    "ys"
   ]
  },
  {
   "cell_type": "code",
   "execution_count": 28,
   "id": "ffe8c053-0fd1-47b0-aaf4-bf28f7b1f25c",
   "metadata": {},
   "outputs": [
    {
     "data": {
      "text/plain": [
       "torch.Size([21, 2])"
      ]
     },
     "execution_count": 28,
     "metadata": {},
     "output_type": "execute_result"
    }
   ],
   "source": [
    "xs.shape"
   ]
  },
  {
   "cell_type": "code",
   "execution_count": 29,
   "id": "73de6166-26b5-4303-84c9-7c513b5aafc4",
   "metadata": {},
   "outputs": [
    {
     "data": {
      "text/plain": [
       "torch.Size([21])"
      ]
     },
     "execution_count": 29,
     "metadata": {},
     "output_type": "execute_result"
    }
   ],
   "source": [
    "ys.shape"
   ]
  },
  {
   "cell_type": "markdown",
   "id": "1f119f23-c216-4c74-9bf5-69be2b7a1425",
   "metadata": {},
   "source": [
    "The Data"
   ]
  },
  {
   "cell_type": "code",
   "execution_count": 30,
   "id": "50bb1884-84c1-4c4f-817f-ac48b54464d8",
   "metadata": {},
   "outputs": [
    {
     "data": {
      "text/plain": [
       "14187"
      ]
     },
     "execution_count": 30,
     "metadata": {},
     "output_type": "execute_result"
    }
   ],
   "source": [
    "#DataSet Creation\n",
    "xs=[]\n",
    "ys=[]\n",
    "for w in words_new: \n",
    "     chs=['.']+list(w)+['.'] \n",
    "     for ch1,ch2,ch3 in zip(chs,chs[1:],chs[2:]):\n",
    "        ix1=stoi[ch1]\n",
    "        ix2=stoi[ch2]\n",
    "        ix3=stoi[ch3] \n",
    "        xs.append([ix1,ix2]) \n",
    "        ys.append(ix3)\n",
    "xs=torch.tensor(xs)        \n",
    "ys=torch.tensor(ys) \n",
    "num = xs.shape[0]\n",
    "num\n"
   ]
  },
  {
   "cell_type": "markdown",
   "id": "29572d15-1d5a-4bb1-9264-561570289acf",
   "metadata": {},
   "source": [
    "The Model"
   ]
  },
  {
   "cell_type": "code",
   "execution_count": 31,
   "id": "94604ad4-a2b7-4da3-8b0c-396818fe477a",
   "metadata": {},
   "outputs": [],
   "source": [
    "g = torch.Generator().manual_seed(2147555555)\n",
    "w=torch.rand((54,27),generator=g,requires_grad=True) # 27 neurons"
   ]
  },
  {
   "cell_type": "code",
   "execution_count": 32,
   "id": "a6c77423-f81c-48c0-84ed-5c3eb03d9a00",
   "metadata": {},
   "outputs": [
    {
     "name": "stdout",
     "output_type": "stream",
     "text": [
      "3.3947997093200684\n",
      "3.058293342590332\n",
      "2.823643207550049\n",
      "2.6804776191711426\n",
      "2.5917601585388184\n",
      "2.5299558639526367\n",
      "2.482943296432495\n",
      "2.4452905654907227\n",
      "2.4141435623168945\n",
      "2.387815475463867\n",
      "2.365213394165039\n",
      "2.3455746173858643\n",
      "2.328336000442505\n",
      "2.3130691051483154\n",
      "2.29944109916687\n",
      "2.2871899604797363\n",
      "2.276106595993042\n",
      "2.266023874282837\n",
      "2.2568047046661377\n",
      "2.2483365535736084\n",
      "2.2405269145965576\n",
      "2.233297824859619\n",
      "2.226583242416382\n",
      "2.2203269004821777\n",
      "2.2144813537597656\n",
      "2.2090046405792236\n",
      "2.2038614749908447\n",
      "2.1990206241607666\n",
      "2.1944544315338135\n",
      "2.1901392936706543\n",
      "2.18605375289917\n",
      "2.1821794509887695\n",
      "2.178499221801758\n",
      "2.1749982833862305\n",
      "2.171663284301758\n",
      "2.1684823036193848\n",
      "2.1654441356658936\n",
      "2.162539005279541\n",
      "2.1597578525543213\n",
      "2.1570932865142822\n",
      "2.1545369625091553\n",
      "2.152082681655884\n",
      "2.149724006652832\n",
      "2.1474552154541016\n",
      "2.145271062850952\n",
      "2.143167018890381\n",
      "2.1411380767822266\n",
      "2.1391799449920654\n",
      "2.1372900009155273\n",
      "2.135463237762451\n"
     ]
    }
   ],
   "source": [
    "# gradient descent\n",
    "for k in range(50):\n",
    "    #Forward Pass starts here\n",
    "    xenc = F.one_hot(xs, num_classes=27).float() # xenc shape would be [21,2,27]\n",
    "    xenc_flat = xenc.view(xs.shape[0], -1) #flattent the xenc shape to [21,54]\n",
    "    logits=xenc_flat @ w\n",
    "    counts = logits.exp() # counts, equivalent to N\n",
    "    probs = counts / counts.sum(1, keepdims=True) # probabilities for next character\n",
    "    loss = -probs[torch.arange(num), ys].log().mean()\n",
    "    print(loss.item())\n",
    "\n",
    "    # backward pass starts here\n",
    "    w.grad = None # set to zero the gradient\n",
    "    loss.backward()\n",
    "      \n",
    "    # update\n",
    "    w.data += -20 * w.grad"
   ]
  },
  {
   "cell_type": "code",
   "execution_count": 33,
   "id": "3c6e517d-80f4-4866-98b4-78e7138de175",
   "metadata": {},
   "outputs": [
    {
     "name": "stdout",
     "output_type": "stream",
     "text": [
      "ueshdfa\n",
      "keshan\n",
      "an\n",
      "ruj\n",
      "uatinishvka\n",
      "uan\n",
      "urth\n",
      "ana\n",
      "ruthiacjan\n",
      "vagnd\n"
     ]
    }
   ],
   "source": [
    "g = torch.Generator().manual_seed(2147555555)\n",
    "for _ in range(10):  # Generate 10 words\n",
    "    out = []\n",
    "    context = [stoi['.'], stoi['.']]  # Starting context\n",
    "    while True:\n",
    "        x = torch.tensor([context])\n",
    "        xenc = F.one_hot(x, num_classes=27).float()\n",
    "        xenc_flat = xenc.view(1, -1)  # [1, 54]\n",
    "        logits = xenc_flat @ w  # [1, 27]\n",
    "        probs = F.softmax(logits, dim=1)\n",
    "        ix = torch.multinomial(probs, num_samples=1).item()\n",
    "        if ix == stoi['.']:\n",
    "            break\n",
    "        out.append(itos[ix])\n",
    "        context = [context[1], ix]  # Slide window\n",
    "    print(''.join(out))\n"
   ]
  },
  {
   "cell_type": "code",
   "execution_count": null,
   "id": "6bbb643f-d67d-46be-a143-8c4846c5f5b0",
   "metadata": {},
   "outputs": [],
   "source": []
  },
  {
   "cell_type": "code",
   "execution_count": null,
   "id": "569881eb-4c16-4553-bc08-4c776194d6d1",
   "metadata": {},
   "outputs": [],
   "source": []
  },
  {
   "cell_type": "code",
   "execution_count": null,
   "id": "2890f343-2389-4499-aa05-54c26067876d",
   "metadata": {},
   "outputs": [],
   "source": []
  }
 ],
 "metadata": {
  "kernelspec": {
   "display_name": "Python 3 (ipykernel)",
   "language": "python",
   "name": "python3"
  },
  "language_info": {
   "codemirror_mode": {
    "name": "ipython",
    "version": 3
   },
   "file_extension": ".py",
   "mimetype": "text/x-python",
   "name": "python",
   "nbconvert_exporter": "python",
   "pygments_lexer": "ipython3",
   "version": "3.12.4"
  }
 },
 "nbformat": 4,
 "nbformat_minor": 5
}
